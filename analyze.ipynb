{
 "cells": [
  {
   "cell_type": "code",
   "execution_count": 2,
   "metadata": {},
   "outputs": [],
   "source": [
    "import pandas as pd\n"
   ]
  },
  {
   "cell_type": "code",
   "execution_count": 4,
   "metadata": {},
   "outputs": [],
   "source": [
    "df = pd.read_csv(\"data/crime.csv\")"
   ]
  },
  {
   "cell_type": "code",
   "execution_count": 5,
   "metadata": {},
   "outputs": [
    {
     "data": {
      "text/html": [
       "<div>\n",
       "<style scoped>\n",
       "    .dataframe tbody tr th:only-of-type {\n",
       "        vertical-align: middle;\n",
       "    }\n",
       "\n",
       "    .dataframe tbody tr th {\n",
       "        vertical-align: top;\n",
       "    }\n",
       "\n",
       "    .dataframe thead th {\n",
       "        text-align: right;\n",
       "    }\n",
       "</style>\n",
       "<table border=\"1\" class=\"dataframe\">\n",
       "  <thead>\n",
       "    <tr style=\"text-align: right;\">\n",
       "      <th></th>\n",
       "      <th>INCIDENT_ID</th>\n",
       "      <th>OFFENSE_ID</th>\n",
       "      <th>OFFENSE_CODE</th>\n",
       "      <th>OFFENSE_CODE_EXTENSION</th>\n",
       "      <th>OFFENSE_TYPE_ID</th>\n",
       "      <th>OFFENSE_CATEGORY_ID</th>\n",
       "      <th>FIRST_OCCURRENCE_DATE</th>\n",
       "      <th>LAST_OCCURRENCE_DATE</th>\n",
       "      <th>REPORTED_DATE</th>\n",
       "      <th>INCIDENT_ADDRESS</th>\n",
       "      <th>GEO_X</th>\n",
       "      <th>GEO_Y</th>\n",
       "      <th>GEO_LON</th>\n",
       "      <th>GEO_LAT</th>\n",
       "      <th>DISTRICT_ID</th>\n",
       "      <th>PRECINCT_ID</th>\n",
       "      <th>NEIGHBORHOOD_ID</th>\n",
       "      <th>IS_CRIME</th>\n",
       "      <th>IS_TRAFFIC</th>\n",
       "    </tr>\n",
       "  </thead>\n",
       "  <tbody>\n",
       "    <tr>\n",
       "      <th>0</th>\n",
       "      <td>2018869789</td>\n",
       "      <td>2018869789239900</td>\n",
       "      <td>2399</td>\n",
       "      <td>0</td>\n",
       "      <td>theft-other</td>\n",
       "      <td>larceny</td>\n",
       "      <td>12/27/2018 3:58:00 PM</td>\n",
       "      <td>NaN</td>\n",
       "      <td>12/27/2018 4:51:00 PM</td>\n",
       "      <td>2681 N HANOVER CT</td>\n",
       "      <td>3178210.0</td>\n",
       "      <td>1700715.0</td>\n",
       "      <td>-104.866156</td>\n",
       "      <td>39.755561</td>\n",
       "      <td>5</td>\n",
       "      <td>512</td>\n",
       "      <td>stapleton</td>\n",
       "      <td>1</td>\n",
       "      <td>0</td>\n",
       "    </tr>\n",
       "    <tr>\n",
       "      <th>1</th>\n",
       "      <td>2015664356</td>\n",
       "      <td>2015664356544100</td>\n",
       "      <td>5441</td>\n",
       "      <td>0</td>\n",
       "      <td>traffic-accident</td>\n",
       "      <td>traffic-accident</td>\n",
       "      <td>11/13/2015 7:45:00 AM</td>\n",
       "      <td>NaN</td>\n",
       "      <td>11/13/2015 8:38:00 AM</td>\n",
       "      <td>4100 BLOCK W COLFAX AVE</td>\n",
       "      <td>3129148.0</td>\n",
       "      <td>1694748.0</td>\n",
       "      <td>-105.040760</td>\n",
       "      <td>39.739991</td>\n",
       "      <td>1</td>\n",
       "      <td>122</td>\n",
       "      <td>west-colfax</td>\n",
       "      <td>0</td>\n",
       "      <td>1</td>\n",
       "    </tr>\n",
       "    <tr>\n",
       "      <th>2</th>\n",
       "      <td>20176005213</td>\n",
       "      <td>20176005213239901</td>\n",
       "      <td>2399</td>\n",
       "      <td>1</td>\n",
       "      <td>theft-bicycle</td>\n",
       "      <td>larceny</td>\n",
       "      <td>6/8/2017 1:15:00 PM</td>\n",
       "      <td>6/8/2017 5:15:00 PM</td>\n",
       "      <td>6/12/2017 8:44:00 AM</td>\n",
       "      <td>1705 17TH ST</td>\n",
       "      <td>3140790.0</td>\n",
       "      <td>1699792.0</td>\n",
       "      <td>-104.999264</td>\n",
       "      <td>39.753669</td>\n",
       "      <td>6</td>\n",
       "      <td>612</td>\n",
       "      <td>union-station</td>\n",
       "      <td>1</td>\n",
       "      <td>0</td>\n",
       "    </tr>\n",
       "    <tr>\n",
       "      <th>3</th>\n",
       "      <td>20196012240</td>\n",
       "      <td>20196012240230800</td>\n",
       "      <td>2308</td>\n",
       "      <td>0</td>\n",
       "      <td>theft-from-bldg</td>\n",
       "      <td>larceny</td>\n",
       "      <td>12/7/2019 1:07:00 PM</td>\n",
       "      <td>12/7/2019 6:30:00 PM</td>\n",
       "      <td>12/9/2019 1:35:00 PM</td>\n",
       "      <td>1350 N IRVING ST</td>\n",
       "      <td>3132400.0</td>\n",
       "      <td>1694088.0</td>\n",
       "      <td>-105.029208</td>\n",
       "      <td>39.738134</td>\n",
       "      <td>1</td>\n",
       "      <td>122</td>\n",
       "      <td>west-colfax</td>\n",
       "      <td>1</td>\n",
       "      <td>0</td>\n",
       "    </tr>\n",
       "    <tr>\n",
       "      <th>4</th>\n",
       "      <td>2018861883</td>\n",
       "      <td>2018861883501600</td>\n",
       "      <td>5016</td>\n",
       "      <td>0</td>\n",
       "      <td>violation-of-restraining-order</td>\n",
       "      <td>all-other-crimes</td>\n",
       "      <td>12/22/2018 8:15:00 PM</td>\n",
       "      <td>12/22/2018 8:31:00 PM</td>\n",
       "      <td>12/22/2018 10:00:00 PM</td>\n",
       "      <td>13625 E RANDOLPH PL</td>\n",
       "      <td>3188580.0</td>\n",
       "      <td>1716158.0</td>\n",
       "      <td>-104.828868</td>\n",
       "      <td>39.797750</td>\n",
       "      <td>5</td>\n",
       "      <td>521</td>\n",
       "      <td>montbello</td>\n",
       "      <td>1</td>\n",
       "      <td>0</td>\n",
       "    </tr>\n",
       "  </tbody>\n",
       "</table>\n",
       "</div>"
      ],
      "text/plain": [
       "   INCIDENT_ID         OFFENSE_ID  OFFENSE_CODE  OFFENSE_CODE_EXTENSION  \\\n",
       "0   2018869789   2018869789239900          2399                       0   \n",
       "1   2015664356   2015664356544100          5441                       0   \n",
       "2  20176005213  20176005213239901          2399                       1   \n",
       "3  20196012240  20196012240230800          2308                       0   \n",
       "4   2018861883   2018861883501600          5016                       0   \n",
       "\n",
       "                  OFFENSE_TYPE_ID OFFENSE_CATEGORY_ID  FIRST_OCCURRENCE_DATE  \\\n",
       "0                     theft-other             larceny  12/27/2018 3:58:00 PM   \n",
       "1                traffic-accident    traffic-accident  11/13/2015 7:45:00 AM   \n",
       "2                   theft-bicycle             larceny    6/8/2017 1:15:00 PM   \n",
       "3                 theft-from-bldg             larceny   12/7/2019 1:07:00 PM   \n",
       "4  violation-of-restraining-order    all-other-crimes  12/22/2018 8:15:00 PM   \n",
       "\n",
       "    LAST_OCCURRENCE_DATE           REPORTED_DATE         INCIDENT_ADDRESS  \\\n",
       "0                    NaN   12/27/2018 4:51:00 PM        2681 N HANOVER CT   \n",
       "1                    NaN   11/13/2015 8:38:00 AM  4100 BLOCK W COLFAX AVE   \n",
       "2    6/8/2017 5:15:00 PM    6/12/2017 8:44:00 AM             1705 17TH ST   \n",
       "3   12/7/2019 6:30:00 PM    12/9/2019 1:35:00 PM         1350 N IRVING ST   \n",
       "4  12/22/2018 8:31:00 PM  12/22/2018 10:00:00 PM      13625 E RANDOLPH PL   \n",
       "\n",
       "       GEO_X      GEO_Y     GEO_LON    GEO_LAT  DISTRICT_ID  PRECINCT_ID  \\\n",
       "0  3178210.0  1700715.0 -104.866156  39.755561            5          512   \n",
       "1  3129148.0  1694748.0 -105.040760  39.739991            1          122   \n",
       "2  3140790.0  1699792.0 -104.999264  39.753669            6          612   \n",
       "3  3132400.0  1694088.0 -105.029208  39.738134            1          122   \n",
       "4  3188580.0  1716158.0 -104.828868  39.797750            5          521   \n",
       "\n",
       "  NEIGHBORHOOD_ID  IS_CRIME  IS_TRAFFIC  \n",
       "0       stapleton         1           0  \n",
       "1     west-colfax         0           1  \n",
       "2   union-station         1           0  \n",
       "3     west-colfax         1           0  \n",
       "4       montbello         1           0  "
      ]
     },
     "execution_count": 5,
     "metadata": {},
     "output_type": "execute_result"
    }
   ],
   "source": [
    "# To prove that it's working\n",
    "df.head()"
   ]
  },
  {
   "cell_type": "code",
   "execution_count": 8,
   "metadata": {},
   "outputs": [
    {
     "data": {
      "text/plain": [
       "<AxesSubplot:>"
      ]
     },
     "execution_count": 8,
     "metadata": {},
     "output_type": "execute_result"
    },
    {
     "data": {
      "image/png": "[encoded data removed]",
      "text/plain": [
       "<Figure size 432x288 with 1 Axes>"
      ]
     },
     "metadata": {
      "needs_background": "light"
     },
     "output_type": "display_data"
    }
   ],
   "source": [
    "# Not surprising Denver has a lot of Traffic incidents\n",
    "\n",
    "df.OFFENSE_TYPE_ID.value_counts().iloc[:10].sort_values().plot(kind= \"barh\")"
   ]
  },
  {
   "cell_type": "code",
   "execution_count": 32,
   "metadata": {},
   "outputs": [
    {
     "data": {
      "text/plain": [
       "INCIDENT_ADDRESS\n",
       "490 W COLFAX AVE         110\n",
       "777 N BANNOCK ST          88\n",
       "20TH ST / MARKET ST       27\n",
       "2222 LAWRENCE ST          25\n",
       "10700 E DARTMOUTH AVE     23\n",
       "                        ... \n",
       "444 17TH ST                1\n",
       "4430 N ARGONNE ST          1\n",
       "4428 N MARIPOSA WAY        1\n",
       "4425 W NEVADA PL           1\n",
       "0 BLOCK E 16TH AVE         1\n",
       "Length: 4665, dtype: int64"
      ]
     },
     "execution_count": 32,
     "metadata": {},
     "output_type": "execute_result"
    }
   ],
   "source": [
    "conspiracy_homicide = df[df.OFFENSE_TYPE_ID.str.contains(\"homicide-conspiracy\")]\n",
    "\n",
    "aggravated_assault = df[df.OFFENSE_TYPE_ID.str.contains(\"aggravated-assault\")]\n",
    "stranger_gun_homicide = df[df.OFFENSE_TYPE_ID.str.contains(\"hom-willful-kill-non-family-gu\")]\n",
    "stranger_weapon_homicide = df[df.OFFENSE_TYPE_ID.str.contains(\"hom-willful-kill-nonfam-wp\")]\n",
    "homicide_by_gun = df[df.OFFENSE_TYPE_ID.str.contains(\"hom-wilful-kill-gun\")]\n",
    "homicide_other = df[df.OFFENSE_TYPE_ID.str.contains(\"homicide-other\")]\n",
    "\n",
    "\n",
    "aggravated_assault.groupby(\"INCIDENT_ADDRESS\").size().sort_values(ascending = False)"
   ]
  },
  {
   "cell_type": "code",
   "execution_count": null,
   "metadata": {},
   "outputs": [],
   "source": []
  },
  {
   "cell_type": "code",
   "execution_count": null,
   "metadata": {},
   "outputs": [],
   "source": []
  }
 ],
 "metadata": {
  "kernelspec": {
   "display_name": "Python 3",
   "language": "python",
   "name": "python3"
  },
  "language_info": {
   "codemirror_mode": {
    "name": "ipython",
    "version": 3
   },
   "file_extension": ".py",
   "mimetype": "text/x-python",
   "name": "python",
   "nbconvert_exporter": "python",
   "pygments_lexer": "ipython3",
   "version": "3.8.5"
  }
 },
 "nbformat": 4,
 "nbformat_minor": 4
}
